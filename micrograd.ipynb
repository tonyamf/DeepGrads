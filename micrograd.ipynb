{
  "nbformat": 4,
  "nbformat_minor": 0,
  "metadata": {
    "colab": {
      "provenance": [],
      "authorship_tag": "ABX9TyPFKVlqmqJDItdbSsyJxupm",
      "include_colab_link": true
    },
    "kernelspec": {
      "name": "python3",
      "display_name": "Python 3"
    },
    "language_info": {
      "name": "python"
    }
  },
  "cells": [
    {
      "cell_type": "markdown",
      "metadata": {
        "id": "view-in-github",
        "colab_type": "text"
      },
      "source": [
        "<a href=\"https://colab.research.google.com/github/tonyamf/DeepGrads/blob/main/micrograd.ipynb\" target=\"_parent\"><img src=\"https://colab.research.google.com/assets/colab-badge.svg\" alt=\"Open In Colab\"/></a>"
      ]
    },
    {
      "cell_type": "code",
      "execution_count": 1,
      "metadata": {
        "id": "zDaogRyAupPZ"
      },
      "outputs": [],
      "source": [
        "import math\n",
        "import numpy as np\n",
        "import matplotlib.pyplot as plt\n",
        "%matplotlib inline"
      ]
    },
    {
      "cell_type": "code",
      "source": [
        "def f(x):\n",
        "  return 3*x**2 - 4*x + 5"
      ],
      "metadata": {
        "id": "82C6fp_0u9G3"
      },
      "execution_count": 2,
      "outputs": []
    },
    {
      "cell_type": "code",
      "source": [
        "f(3.0)"
      ],
      "metadata": {
        "colab": {
          "base_uri": "https://localhost:8080/"
        },
        "id": "vuDE0Bp8vG0V",
        "outputId": "1fd19e21-2c2c-46dc-e60d-03e8a9c2b115"
      },
      "execution_count": 3,
      "outputs": [
        {
          "output_type": "execute_result",
          "data": {
            "text/plain": [
              "20.0"
            ]
          },
          "metadata": {},
          "execution_count": 3
        }
      ]
    },
    {
      "cell_type": "code",
      "source": [
        "xs = np.arange(-5, 5, 0.25)\n",
        "ys = f(xs)\n",
        "plt.plot(xs, ys)"
      ],
      "metadata": {
        "colab": {
          "base_uri": "https://localhost:8080/",
          "height": 282
        },
        "id": "iQFj-mGivIDp",
        "outputId": "14e42d5e-f155-4b79-8810-5b348428e98f"
      },
      "execution_count": 4,
      "outputs": [
        {
          "output_type": "execute_result",
          "data": {
            "text/plain": [
              "[<matplotlib.lines.Line2D at 0x7fee53ee0400>]"
            ]
          },
          "metadata": {},
          "execution_count": 4
        },
        {
          "output_type": "display_data",
          "data": {
            "text/plain": [
              "<Figure size 432x288 with 1 Axes>"
            ],
            "image/png": "[encoded data removed]"
          },
          "metadata": {
            "needs_background": "light"
          }
        }
      ]
    },
    {
      "cell_type": "code",
      "source": [
        "h = 0.000001\n",
        "x = 3.0\n",
        "(f(x+ h) - f(x))/h"
      ],
      "metadata": {
        "colab": {
          "base_uri": "https://localhost:8080/"
        },
        "id": "LWBByA2IvQN3",
        "outputId": "2259abc1-d4ac-4930-a209-c109992caa30"
      },
      "execution_count": 5,
      "outputs": [
        {
          "output_type": "execute_result",
          "data": {
            "text/plain": [
              "14.000003002223593"
            ]
          },
          "metadata": {},
          "execution_count": 5
        }
      ]
    },
    {
      "cell_type": "code",
      "source": [
        "#let get more complex\n",
        "a = 2.0\n",
        "b = -3.0\n",
        "c = 10.0\n",
        "d = a*b + c\n",
        "print(d)"
      ],
      "metadata": {
        "colab": {
          "base_uri": "https://localhost:8080/"
        },
        "id": "M1fwymZsw719",
        "outputId": "f02a8c5b-95a8-4029-ce0c-e4662210313e"
      },
      "execution_count": 6,
      "outputs": [
        {
          "output_type": "stream",
          "name": "stdout",
          "text": [
            "4.0\n"
          ]
        }
      ]
    },
    {
      "cell_type": "code",
      "source": [
        "h = 0.0001\n",
        "\n",
        "#inputs\n",
        "a = 2.0\n",
        "b= -3.0\n",
        "c = 10.0  \n",
        "\n",
        "d1 = a*b + c\n",
        "a += h\n",
        "d2 = a*b + c\n",
        "\n",
        "print('d1', d1)\n",
        "print('d2', d2)\n",
        "print('slope', (d2-d1) / h )"
      ],
      "metadata": {
        "id": "0b7TQNkmxnO8",
        "colab": {
          "base_uri": "https://localhost:8080/"
        },
        "outputId": "4fc4293f-0915-48fc-8731-d09265b11b08"
      },
      "execution_count": 7,
      "outputs": [
        {
          "output_type": "stream",
          "name": "stdout",
          "text": [
            "d1 4.0\n",
            "d2 3.999699999999999\n",
            "slope -3.000000000010772\n"
          ]
        }
      ]
    },
    {
      "cell_type": "code",
      "source": [
        "#McroGrad build\n",
        "\n",
        "\n",
        "class Value:\n",
        "    \"\"\" stores a single scalar value and its gradient \"\"\"\n",
        "\n",
        "    def __init__(self, data, _children=(), _op='', label=''):\n",
        "        self.data = data\n",
        "        self.grad = 0\n",
        "        self._backward = lambda:None#this is going to be that function that going to do that chain rule, at the moment it  not doing anything\n",
        "        # internal variables used for autograd graph construction\n",
        "        self._prev = set(_children)\n",
        "        self._op = _op\n",
        "        self.label = label\n",
        "\n",
        "    def __repr__(self) -> str:\n",
        "        return f\"Value(data={self.data})\"\n",
        "\n",
        "    def __add__(self, other):\n",
        "        out = Value(self.data + other.data, (self, other), '+')\n",
        "        \n",
        "        def _backward():\n",
        "          self.grad = ????\n",
        "          %set_env\n",
        "        out._backward = _backward\n",
        "\n",
        "        \n",
        "        return out\n",
        "\n",
        "    def __mul__(self, other):\n",
        "        out = Value(self.data * other.data, (self, other), '*')\n",
        "        return out\n",
        "    \n",
        "    def tanh(self):\n",
        "      n = self.data\n",
        "      t = (math.exp(2*n) - 1)/(math.exp(2*n) + 1)\n",
        "      out=  Value(t, (self,), 'tanh')\n",
        "      return out\n",
        "\n",
        "a = Value(2.0, label='a')\n",
        "b = Value(-3.0, label='b')\n",
        "c = Value(10.0, label='c')\n",
        "e = a *b; e.label='e'\n",
        "d = e+c; d.label = 'd'\n",
        "f = Value(-2.0, label='f')\n",
        "L = d * f; L.label = 'L'\n",
        "L"
      ],
      "metadata": {
        "id": "kwfmdAf2N6Dx",
        "colab": {
          "base_uri": "https://localhost:8080/"
        },
        "outputId": "8193404e-0d13-4279-8476-fc0aa4637e4d"
      },
      "execution_count": 24,
      "outputs": [
        {
          "output_type": "execute_result",
          "data": {
            "text/plain": [
              "Value(data=-8.0)"
            ]
          },
          "metadata": {},
          "execution_count": 24
        }
      ]
    },
    {
      "cell_type": "code",
      "source": [
        " from graphviz import Digraph\n",
        "\n",
        " def trace(root):\n",
        "    nodes, edges = set(), set()\n",
        "    def build(v):\n",
        "        if v not in nodes:\n",
        "            nodes.add(v)\n",
        "            for child in v._prev:\n",
        "                edges.add((child, v))\n",
        "                build(child)\n",
        "    build(root)\n",
        "    return nodes, edges\n",
        "\n",
        "def draw_dot(root):\n",
        "\n",
        "    nodes, edges = trace(root)\n",
        "    dot = Digraph(format='svg', graph_attr={'rankdir': 'LR'}) #, node_attr={'rankdir': 'TB'})\n",
        "    \n",
        "    for n in nodes:\n",
        "        dot.node(name=str(id(n)), label = \"{ %s | data %.4f | grad %.4f }\" % (n.label, n.data, n.grad), shape='record')\n",
        "        if n._op:\n",
        "            dot.node(name=str(id(n)) + n._op, label=n._op)\n",
        "            dot.edge(str(id(n)) + n._op, str(id(n)))\n",
        "    \n",
        "    for n1, n2 in edges:\n",
        "        dot.edge(str(id(n1)), str(id(n2)) + n2._op)\n",
        "    \n",
        "    return dot"
      ],
      "metadata": {
        "id": "-tytWR8dQ02U"
      },
      "execution_count": 13,
      "outputs": []
    },
    {
      "cell_type": "code",
      "source": [
        "draw_dot(L)"
      ],
      "metadata": {
        "colab": {
          "base_uri": "https://localhost:8080/",
          "height": 192
        },
        "id": "HWWxl4cKc2i3",
        "outputId": "06aba55b-6d26-4fd8-bbd8-2a9e186fa512"
      },
      "execution_count": 14,
      "outputs": [
        {
          "output_type": "execute_result",
          "data": {
            "text/plain": [
              "<graphviz.dot.Digraph at 0x7fee5d3846d0>"
            ],
            "image/svg+xml": "<?xml version=\"1.0\" encoding=\"UTF-8\" standalone=\"no\"?>\n<!DOCTYPE svg PUBLIC \"-//W3C//DTD SVG 1.1//EN\"\n \"http://www.w3.org/Graphics/SVG/1.1/DTD/svg11.dtd\">\n<!-- Generated by graphviz version 2.40.1 (20161225.0304)\n -->\n<!-- Title: %3 Pages: 1 -->\n<svg width=\"1187pt\" height=\"128pt\"\n viewBox=\"0.00 0.00 1187.00 128.00\" xmlns=\"http://www.w3.org/2000/svg\" xmlns:xlink=\"http://www.w3.org/1999/xlink\">\n<g id=\"graph0\" class=\"graph\" transform=\"scale(1 1) rotate(0) translate(4 124)\">\n<title>%3</title>\n<polygon fill=\"#ffffff\" stroke=\"transparent\" points=\"-4,4 -4,-124 1183,-124 1183,4 -4,4\"/>\n<!-- 140661586661488 -->\n<g id=\"node1\" class=\"node\">\n<title>140661586661488</title>\n<polygon fill=\"none\" stroke=\"#000000\" points=\"326,-83.5 326,-119.5 528,-119.5 528,-83.5 326,-83.5\"/>\n<text text-anchor=\"middle\" x=\"337.5\" y=\"-97.8\" font-family=\"Times,serif\" font-size=\"14.00\" fill=\"#000000\">c</text>\n<polyline fill=\"none\" stroke=\"#000000\" points=\"349,-83.5 349,-119.5 \"/>\n<text text-anchor=\"middle\" x=\"395\" y=\"-97.8\" font-family=\"Times,serif\" font-size=\"14.00\" fill=\"#000000\">data 10.0000</text>\n<polyline fill=\"none\" stroke=\"#000000\" points=\"441,-83.5 441,-119.5 \"/>\n<text text-anchor=\"middle\" x=\"484.5\" y=\"-97.8\" font-family=\"Times,serif\" font-size=\"14.00\" fill=\"#000000\">grad 0.0000</text>\n</g>\n<!-- 140661815340864+ -->\n<g id=\"node8\" class=\"node\">\n<title>140661815340864+</title>\n<ellipse fill=\"none\" stroke=\"#000000\" cx=\"591\" cy=\"-73.5\" rx=\"27\" ry=\"18\"/>\n<text text-anchor=\"middle\" x=\"591\" y=\"-69.8\" font-family=\"Times,serif\" font-size=\"14.00\" fill=\"#000000\">+</text>\n</g>\n<!-- 140661586661488&#45;&gt;140661815340864+ -->\n<g id=\"edge6\" class=\"edge\">\n<title>140661586661488&#45;&gt;140661815340864+</title>\n<path fill=\"none\" stroke=\"#000000\" d=\"M528.0623,-84.2455C537.5172,-82.6312 546.6142,-81.0781 554.8116,-79.6785\"/>\n<polygon fill=\"#000000\" stroke=\"#000000\" points=\"555.405,-83.1279 564.6733,-77.9948 554.2269,-76.2278 555.405,-83.1279\"/>\n</g>\n<!-- 140661815340672 -->\n<g id=\"node2\" class=\"node\">\n<title>140661815340672</title>\n<polygon fill=\"none\" stroke=\"#000000\" points=\"977,-27.5 977,-63.5 1179,-63.5 1179,-27.5 977,-27.5\"/>\n<text text-anchor=\"middle\" x=\"990\" y=\"-41.8\" font-family=\"Times,serif\" font-size=\"14.00\" fill=\"#000000\">L</text>\n<polyline fill=\"none\" stroke=\"#000000\" points=\"1003,-27.5 1003,-63.5 \"/>\n<text text-anchor=\"middle\" x=\"1047.5\" y=\"-41.8\" font-family=\"Times,serif\" font-size=\"14.00\" fill=\"#000000\">data &#45;8.0000</text>\n<polyline fill=\"none\" stroke=\"#000000\" points=\"1092,-27.5 1092,-63.5 \"/>\n<text text-anchor=\"middle\" x=\"1135.5\" y=\"-41.8\" font-family=\"Times,serif\" font-size=\"14.00\" fill=\"#000000\">grad 0.0000</text>\n</g>\n<!-- 140661815340672* -->\n<g id=\"node3\" class=\"node\">\n<title>140661815340672*</title>\n<ellipse fill=\"none\" stroke=\"#000000\" cx=\"914\" cy=\"-45.5\" rx=\"27\" ry=\"18\"/>\n<text text-anchor=\"middle\" x=\"914\" y=\"-41.8\" font-family=\"Times,serif\" font-size=\"14.00\" fill=\"#000000\">*</text>\n</g>\n<!-- 140661815340672*&#45;&gt;140661815340672 -->\n<g id=\"edge1\" class=\"edge\">\n<title>140661815340672*&#45;&gt;140661815340672</title>\n<path fill=\"none\" stroke=\"#000000\" d=\"M941.0813,-45.5C948.631,-45.5 957.3302,-45.5 966.608,-45.5\"/>\n<polygon fill=\"#000000\" stroke=\"#000000\" points=\"966.8754,-49.0001 976.8754,-45.5 966.8754,-42.0001 966.8754,-49.0001\"/>\n</g>\n<!-- 140661586662016 -->\n<g id=\"node4\" class=\"node\">\n<title>140661586662016</title>\n<polygon fill=\"none\" stroke=\"#000000\" points=\"327.5,-28.5 327.5,-64.5 526.5,-64.5 526.5,-28.5 327.5,-28.5\"/>\n<text text-anchor=\"middle\" x=\"339\" y=\"-42.8\" font-family=\"Times,serif\" font-size=\"14.00\" fill=\"#000000\">e</text>\n<polyline fill=\"none\" stroke=\"#000000\" points=\"350.5,-28.5 350.5,-64.5 \"/>\n<text text-anchor=\"middle\" x=\"395\" y=\"-42.8\" font-family=\"Times,serif\" font-size=\"14.00\" fill=\"#000000\">data &#45;6.0000</text>\n<polyline fill=\"none\" stroke=\"#000000\" points=\"439.5,-28.5 439.5,-64.5 \"/>\n<text text-anchor=\"middle\" x=\"483\" y=\"-42.8\" font-family=\"Times,serif\" font-size=\"14.00\" fill=\"#000000\">grad 0.0000</text>\n</g>\n<!-- 140661586662016&#45;&gt;140661815340864+ -->\n<g id=\"edge9\" class=\"edge\">\n<title>140661586662016&#45;&gt;140661815340864+</title>\n<path fill=\"none\" stroke=\"#000000\" d=\"M526.6536,-62.9064C536.572,-64.5393 546.1287,-66.1127 554.7053,-67.5247\"/>\n<polygon fill=\"#000000\" stroke=\"#000000\" points=\"554.2034,-70.9891 564.6392,-69.1601 555.3406,-64.082 554.2034,-70.9891\"/>\n</g>\n<!-- 140661586662016* -->\n<g id=\"node5\" class=\"node\">\n<title>140661586662016*</title>\n<ellipse fill=\"none\" stroke=\"#000000\" cx=\"263\" cy=\"-46.5\" rx=\"27\" ry=\"18\"/>\n<text text-anchor=\"middle\" x=\"263\" y=\"-42.8\" font-family=\"Times,serif\" font-size=\"14.00\" fill=\"#000000\">*</text>\n</g>\n<!-- 140661586662016*&#45;&gt;140661586662016 -->\n<g id=\"edge2\" class=\"edge\">\n<title>140661586662016*&#45;&gt;140661586662016</title>\n<path fill=\"none\" stroke=\"#000000\" d=\"M290.0813,-46.5C298.0646,-46.5 307.3332,-46.5 317.212,-46.5\"/>\n<polygon fill=\"#000000\" stroke=\"#000000\" points=\"317.2693,-50.0001 327.2693,-46.5 317.2692,-43.0001 317.2693,-50.0001\"/>\n</g>\n<!-- 140661815340816 -->\n<g id=\"node6\" class=\"node\">\n<title>140661815340816</title>\n<polygon fill=\"none\" stroke=\"#000000\" points=\"654,-.5 654,-36.5 851,-36.5 851,-.5 654,-.5\"/>\n<text text-anchor=\"middle\" x=\"664.5\" y=\"-14.8\" font-family=\"Times,serif\" font-size=\"14.00\" fill=\"#000000\">f</text>\n<polyline fill=\"none\" stroke=\"#000000\" points=\"675,-.5 675,-36.5 \"/>\n<text text-anchor=\"middle\" x=\"719.5\" y=\"-14.8\" font-family=\"Times,serif\" font-size=\"14.00\" fill=\"#000000\">data &#45;2.0000</text>\n<polyline fill=\"none\" stroke=\"#000000\" points=\"764,-.5 764,-36.5 \"/>\n<text text-anchor=\"middle\" x=\"807.5\" y=\"-14.8\" font-family=\"Times,serif\" font-size=\"14.00\" fill=\"#000000\">grad 0.0000</text>\n</g>\n<!-- 140661815340816&#45;&gt;140661815340672* -->\n<g id=\"edge8\" class=\"edge\">\n<title>140661815340816&#45;&gt;140661815340672*</title>\n<path fill=\"none\" stroke=\"#000000\" d=\"M851.0974,-34.9838C860.4127,-36.5411 869.3943,-38.0427 877.5123,-39.3999\"/>\n<polygon fill=\"#000000\" stroke=\"#000000\" points=\"877.2018,-42.8965 887.6421,-41.0934 878.3562,-35.9923 877.2018,-42.8965\"/>\n</g>\n<!-- 140661815340864 -->\n<g id=\"node7\" class=\"node\">\n<title>140661815340864</title>\n<polygon fill=\"none\" stroke=\"#000000\" points=\"654.5,-55.5 654.5,-91.5 850.5,-91.5 850.5,-55.5 654.5,-55.5\"/>\n<text text-anchor=\"middle\" x=\"666.5\" y=\"-69.8\" font-family=\"Times,serif\" font-size=\"14.00\" fill=\"#000000\">d</text>\n<polyline fill=\"none\" stroke=\"#000000\" points=\"678.5,-55.5 678.5,-91.5 \"/>\n<text text-anchor=\"middle\" x=\"721\" y=\"-69.8\" font-family=\"Times,serif\" font-size=\"14.00\" fill=\"#000000\">data 4.0000</text>\n<polyline fill=\"none\" stroke=\"#000000\" points=\"763.5,-55.5 763.5,-91.5 \"/>\n<text text-anchor=\"middle\" x=\"807\" y=\"-69.8\" font-family=\"Times,serif\" font-size=\"14.00\" fill=\"#000000\">grad 0.0000</text>\n</g>\n<!-- 140661815340864&#45;&gt;140661815340672* -->\n<g id=\"edge7\" class=\"edge\">\n<title>140661815340864&#45;&gt;140661815340672*</title>\n<path fill=\"none\" stroke=\"#000000\" d=\"M850.6344,-56.486C860.2015,-54.8273 869.4268,-53.2279 877.738,-51.7869\"/>\n<polygon fill=\"#000000\" stroke=\"#000000\" points=\"878.4785,-55.2108 887.7336,-50.0539 877.2827,-48.3137 878.4785,-55.2108\"/>\n</g>\n<!-- 140661815340864+&#45;&gt;140661815340864 -->\n<g id=\"edge3\" class=\"edge\">\n<title>140661815340864+&#45;&gt;140661815340864</title>\n<path fill=\"none\" stroke=\"#000000\" d=\"M618.0315,-73.5C625.7623,-73.5 634.6953,-73.5 644.2076,-73.5\"/>\n<polygon fill=\"#000000\" stroke=\"#000000\" points=\"644.3041,-77.0001 654.304,-73.5 644.304,-70.0001 644.3041,-77.0001\"/>\n</g>\n<!-- 140661586661824 -->\n<g id=\"node9\" class=\"node\">\n<title>140661586661824</title>\n<polygon fill=\"none\" stroke=\"#000000\" points=\"2.5,-56.5 2.5,-92.5 197.5,-92.5 197.5,-56.5 2.5,-56.5\"/>\n<text text-anchor=\"middle\" x=\"14\" y=\"-70.8\" font-family=\"Times,serif\" font-size=\"14.00\" fill=\"#000000\">a</text>\n<polyline fill=\"none\" stroke=\"#000000\" points=\"25.5,-56.5 25.5,-92.5 \"/>\n<text text-anchor=\"middle\" x=\"68\" y=\"-70.8\" font-family=\"Times,serif\" font-size=\"14.00\" fill=\"#000000\">data 2.0000</text>\n<polyline fill=\"none\" stroke=\"#000000\" points=\"110.5,-56.5 110.5,-92.5 \"/>\n<text text-anchor=\"middle\" x=\"154\" y=\"-70.8\" font-family=\"Times,serif\" font-size=\"14.00\" fill=\"#000000\">grad 0.0000</text>\n</g>\n<!-- 140661586661824&#45;&gt;140661586662016* -->\n<g id=\"edge4\" class=\"edge\">\n<title>140661586661824&#45;&gt;140661586662016*</title>\n<path fill=\"none\" stroke=\"#000000\" d=\"M197.6409,-57.7273C207.9722,-55.9526 217.943,-54.2399 226.8529,-52.7093\"/>\n<polygon fill=\"#000000\" stroke=\"#000000\" points=\"227.5199,-56.1461 236.783,-51.0035 226.3347,-49.2471 227.5199,-56.1461\"/>\n</g>\n<!-- 140661586662352 -->\n<g id=\"node10\" class=\"node\">\n<title>140661586662352</title>\n<polygon fill=\"none\" stroke=\"#000000\" points=\"0,-1.5 0,-37.5 200,-37.5 200,-1.5 0,-1.5\"/>\n<text text-anchor=\"middle\" x=\"12\" y=\"-15.8\" font-family=\"Times,serif\" font-size=\"14.00\" fill=\"#000000\">b</text>\n<polyline fill=\"none\" stroke=\"#000000\" points=\"24,-1.5 24,-37.5 \"/>\n<text text-anchor=\"middle\" x=\"68.5\" y=\"-15.8\" font-family=\"Times,serif\" font-size=\"14.00\" fill=\"#000000\">data &#45;3.0000</text>\n<polyline fill=\"none\" stroke=\"#000000\" points=\"113,-1.5 113,-37.5 \"/>\n<text text-anchor=\"middle\" x=\"156.5\" y=\"-15.8\" font-family=\"Times,serif\" font-size=\"14.00\" fill=\"#000000\">grad 0.0000</text>\n</g>\n<!-- 140661586662352&#45;&gt;140661586662016* -->\n<g id=\"edge5\" class=\"edge\">\n<title>140661586662352&#45;&gt;140661586662016*</title>\n<path fill=\"none\" stroke=\"#000000\" d=\"M200.4461,-36.1383C209.6478,-37.6625 218.5084,-39.1302 226.5226,-40.4577\"/>\n<polygon fill=\"#000000\" stroke=\"#000000\" points=\"226.0904,-43.9338 236.528,-42.1151 227.2344,-37.0279 226.0904,-43.9338\"/>\n</g>\n</g>\n</svg>\n"
          },
          "metadata": {},
          "execution_count": 14
        }
      ]
    },
    {
      "cell_type": "code",
      "source": [
        "plt.plot(np.arange(-5,5,0.2), np.tanh(np.arange(-5,5,0.2))); plt.grid();"
      ],
      "metadata": {
        "colab": {
          "base_uri": "https://localhost:8080/",
          "height": 265
        },
        "id": "-WyBOJSIdWlI",
        "outputId": "8a2de273-22de-4ac9-9828-24a5196a9dfc"
      },
      "execution_count": 15,
      "outputs": [
        {
          "output_type": "display_data",
          "data": {
            "text/plain": [
              "<Figure size 432x288 with 1 Axes>"
            ],
            "image/png": "[encoded data removed]"
          },
          "metadata": {
            "needs_background": "light"
          }
        }
      ]
    },
    {
      "cell_type": "code",
      "source": [
        "#\n",
        "x1 = Value(2.0, label='x1')\n",
        "x2 = Value(0.0, label='x2')\n",
        "w1 = Value(-3.0, label='w1')\n",
        "w2 = Value(1.0, label='w2')\n",
        "b = Value(6.8813735870195432, label='b')\n",
        "x1w1 = x1*w1; x1w1.label = 'x1*w1'\n",
        "x2w2 = x2*w2; x2w2.label = 'x2*w2'\n",
        "x1w1x2w2 = x1w1 + x2w2; x1w1x2w2.label = 'x1*w1 + x2*w2'\n",
        "n = x1w1x2w2 + b; n.label = 'n'\n",
        "o = n.tanh(); o.label = 'o'\n"
      ],
      "metadata": {
        "id": "k9P-1CVYjJAN"
      },
      "execution_count": null,
      "outputs": []
    },
    {
      "cell_type": "code",
      "source": [
        "draw_dot(o)"
      ],
      "metadata": {
        "colab": {
          "base_uri": "https://localhost:8080/",
          "height": 321
        },
        "id": "osJKpnzTstg0",
        "outputId": "baca71f0-cc5c-4c34-dc7e-69097d7f5af0"
      },
      "execution_count": 34,
      "outputs": [
        {
          "output_type": "execute_result",
          "data": {
            "text/plain": [
              "<graphviz.dot.Digraph at 0x7fee5326caf0>"
            ],
            "image/svg+xml": "<?xml version=\"1.0\" encoding=\"UTF-8\" standalone=\"no\"?>\n<!DOCTYPE svg PUBLIC \"-//W3C//DTD SVG 1.1//EN\"\n \"http://www.w3.org/Graphics/SVG/1.1/DTD/svg11.dtd\">\n<!-- Generated by graphviz version 2.40.1 (20161225.0304)\n -->\n<!-- Title: %3 Pages: 1 -->\n<svg width=\"1637pt\" height=\"210pt\"\n viewBox=\"0.00 0.00 1637.00 210.00\" xmlns=\"http://www.w3.org/2000/svg\" xmlns:xlink=\"http://www.w3.org/1999/xlink\">\n<g id=\"graph0\" class=\"graph\" transform=\"scale(1 1) rotate(0) translate(4 206)\">\n<title>%3</title>\n<polygon fill=\"#ffffff\" stroke=\"transparent\" points=\"-4,4 -4,-206 1633,-206 1633,4 -4,4\"/>\n<!-- 140661574352416 -->\n<g id=\"node1\" class=\"node\">\n<title>140661574352416</title>\n<polygon fill=\"none\" stroke=\"#000000\" points=\"1,-165.5 1,-201.5 210,-201.5 210,-165.5 1,-165.5\"/>\n<text text-anchor=\"middle\" x=\"17\" y=\"-179.8\" font-family=\"Times,serif\" font-size=\"14.00\" fill=\"#000000\">x1</text>\n<polyline fill=\"none\" stroke=\"#000000\" points=\"33,-165.5 33,-201.5 \"/>\n<text text-anchor=\"middle\" x=\"75.5\" y=\"-179.8\" font-family=\"Times,serif\" font-size=\"14.00\" fill=\"#000000\">data 2.0000</text>\n<polyline fill=\"none\" stroke=\"#000000\" points=\"118,-165.5 118,-201.5 \"/>\n<text text-anchor=\"middle\" x=\"164\" y=\"-179.8\" font-family=\"Times,serif\" font-size=\"14.00\" fill=\"#000000\">grad &#45;1.5000</text>\n</g>\n<!-- 140661574351648* -->\n<g id=\"node11\" class=\"node\">\n<title>140661574351648*</title>\n<ellipse fill=\"none\" stroke=\"#000000\" cx=\"274\" cy=\"-128.5\" rx=\"27\" ry=\"18\"/>\n<text text-anchor=\"middle\" x=\"274\" y=\"-124.8\" font-family=\"Times,serif\" font-size=\"14.00\" fill=\"#000000\">*</text>\n</g>\n<!-- 140661574352416&#45;&gt;140661574351648* -->\n<g id=\"edge9\" class=\"edge\">\n<title>140661574352416&#45;&gt;140661574351648*</title>\n<path fill=\"none\" stroke=\"#000000\" d=\"M182.3017,-165.4558C192.0361,-162.698 201.8026,-159.6955 211,-156.5 221.6243,-152.8088 232.9373,-148.0548 243.0021,-143.5155\"/>\n<polygon fill=\"#000000\" stroke=\"#000000\" points=\"244.5909,-146.6371 252.2061,-139.271 241.6594,-140.2805 244.5909,-146.6371\"/>\n</g>\n<!-- 140661574349872 -->\n<g id=\"node2\" class=\"node\">\n<title>140661574349872</title>\n<polygon fill=\"none\" stroke=\"#000000\" points=\"0,-110.5 0,-146.5 211,-146.5 211,-110.5 0,-110.5\"/>\n<text text-anchor=\"middle\" x=\"17.5\" y=\"-124.8\" font-family=\"Times,serif\" font-size=\"14.00\" fill=\"#000000\">w1</text>\n<polyline fill=\"none\" stroke=\"#000000\" points=\"35,-110.5 35,-146.5 \"/>\n<text text-anchor=\"middle\" x=\"79.5\" y=\"-124.8\" font-family=\"Times,serif\" font-size=\"14.00\" fill=\"#000000\">data &#45;3.0000</text>\n<polyline fill=\"none\" stroke=\"#000000\" points=\"124,-110.5 124,-146.5 \"/>\n<text text-anchor=\"middle\" x=\"167.5\" y=\"-124.8\" font-family=\"Times,serif\" font-size=\"14.00\" fill=\"#000000\">grad 1.0000</text>\n</g>\n<!-- 140661574349872&#45;&gt;140661574351648* -->\n<g id=\"edge8\" class=\"edge\">\n<title>140661574349872&#45;&gt;140661574351648*</title>\n<path fill=\"none\" stroke=\"#000000\" d=\"M211.2568,-128.5C220.2576,-128.5 228.9074,-128.5 236.7567,-128.5\"/>\n<polygon fill=\"#000000\" stroke=\"#000000\" points=\"236.9217,-132.0001 246.9217,-128.5 236.9217,-125.0001 236.9217,-132.0001\"/>\n</g>\n<!-- 140661574349440 -->\n<g id=\"node3\" class=\"node\">\n<title>140661574349440</title>\n<polygon fill=\"none\" stroke=\"#000000\" points=\"1111,-54.5 1111,-90.5 1307,-90.5 1307,-54.5 1111,-54.5\"/>\n<text text-anchor=\"middle\" x=\"1123\" y=\"-68.8\" font-family=\"Times,serif\" font-size=\"14.00\" fill=\"#000000\">n</text>\n<polyline fill=\"none\" stroke=\"#000000\" points=\"1135,-54.5 1135,-90.5 \"/>\n<text text-anchor=\"middle\" x=\"1177.5\" y=\"-68.8\" font-family=\"Times,serif\" font-size=\"14.00\" fill=\"#000000\">data 0.8814</text>\n<polyline fill=\"none\" stroke=\"#000000\" points=\"1220,-54.5 1220,-90.5 \"/>\n<text text-anchor=\"middle\" x=\"1263.5\" y=\"-68.8\" font-family=\"Times,serif\" font-size=\"14.00\" fill=\"#000000\">grad 0.5000</text>\n</g>\n<!-- 140661574350544tanh -->\n<g id=\"node8\" class=\"node\">\n<title>140661574350544tanh</title>\n<ellipse fill=\"none\" stroke=\"#000000\" cx=\"1370\" cy=\"-72.5\" rx=\"27\" ry=\"18\"/>\n<text text-anchor=\"middle\" x=\"1370\" y=\"-68.8\" font-family=\"Times,serif\" font-size=\"14.00\" fill=\"#000000\">tanh</text>\n</g>\n<!-- 140661574349440&#45;&gt;140661574350544tanh -->\n<g id=\"edge7\" class=\"edge\">\n<title>140661574349440&#45;&gt;140661574350544tanh</title>\n<path fill=\"none\" stroke=\"#000000\" d=\"M1307.2922,-72.5C1316.2042,-72.5 1324.8099,-72.5 1332.6423,-72.5\"/>\n<polygon fill=\"#000000\" stroke=\"#000000\" points=\"1332.7996,-76.0001 1342.7995,-72.5 1332.7995,-69.0001 1332.7996,-76.0001\"/>\n</g>\n<!-- 140661574349440+ -->\n<g id=\"node4\" class=\"node\">\n<title>140661574349440+</title>\n<ellipse fill=\"none\" stroke=\"#000000\" cx=\"1048\" cy=\"-72.5\" rx=\"27\" ry=\"18\"/>\n<text text-anchor=\"middle\" x=\"1048\" y=\"-68.8\" font-family=\"Times,serif\" font-size=\"14.00\" fill=\"#000000\">+</text>\n</g>\n<!-- 140661574349440+&#45;&gt;140661574349440 -->\n<g id=\"edge1\" class=\"edge\">\n<title>140661574349440+&#45;&gt;140661574349440</title>\n<path fill=\"none\" stroke=\"#000000\" d=\"M1075.3115,-72.5C1082.8223,-72.5 1091.4512,-72.5 1100.6318,-72.5\"/>\n<polygon fill=\"#000000\" stroke=\"#000000\" points=\"1100.7835,-76.0001 1110.7835,-72.5 1100.7835,-69.0001 1100.7835,-76.0001\"/>\n</g>\n<!-- 140661574352560 -->\n<g id=\"node5\" class=\"node\">\n<title>140661574352560</title>\n<polygon fill=\"none\" stroke=\"#000000\" points=\"339,-55.5 339,-91.5 568,-91.5 568,-55.5 339,-55.5\"/>\n<text text-anchor=\"middle\" x=\"367.5\" y=\"-69.8\" font-family=\"Times,serif\" font-size=\"14.00\" fill=\"#000000\">x2*w2</text>\n<polyline fill=\"none\" stroke=\"#000000\" points=\"396,-55.5 396,-91.5 \"/>\n<text text-anchor=\"middle\" x=\"438.5\" y=\"-69.8\" font-family=\"Times,serif\" font-size=\"14.00\" fill=\"#000000\">data 0.0000</text>\n<polyline fill=\"none\" stroke=\"#000000\" points=\"481,-55.5 481,-91.5 \"/>\n<text text-anchor=\"middle\" x=\"524.5\" y=\"-69.8\" font-family=\"Times,serif\" font-size=\"14.00\" fill=\"#000000\">grad 0.5000</text>\n</g>\n<!-- 140661574350832+ -->\n<g id=\"node15\" class=\"node\">\n<title>140661574350832+</title>\n<ellipse fill=\"none\" stroke=\"#000000\" cx=\"633\" cy=\"-100.5\" rx=\"27\" ry=\"18\"/>\n<text text-anchor=\"middle\" x=\"633\" y=\"-96.8\" font-family=\"Times,serif\" font-size=\"14.00\" fill=\"#000000\">+</text>\n</g>\n<!-- 140661574352560&#45;&gt;140661574350832+ -->\n<g id=\"edge6\" class=\"edge\">\n<title>140661574352560&#45;&gt;140661574350832+</title>\n<path fill=\"none\" stroke=\"#000000\" d=\"M568.1964,-90.7524C578.2591,-92.266 587.8673,-93.7112 596.4577,-95.0034\"/>\n<polygon fill=\"#000000\" stroke=\"#000000\" points=\"595.984,-98.4714 606.3934,-96.4979 597.0253,-91.5493 595.984,-98.4714\"/>\n</g>\n<!-- 140661574352560* -->\n<g id=\"node6\" class=\"node\">\n<title>140661574352560*</title>\n<ellipse fill=\"none\" stroke=\"#000000\" cx=\"274\" cy=\"-73.5\" rx=\"27\" ry=\"18\"/>\n<text text-anchor=\"middle\" x=\"274\" y=\"-69.8\" font-family=\"Times,serif\" font-size=\"14.00\" fill=\"#000000\">*</text>\n</g>\n<!-- 140661574352560*&#45;&gt;140661574352560 -->\n<g id=\"edge2\" class=\"edge\">\n<title>140661574352560*&#45;&gt;140661574352560</title>\n<path fill=\"none\" stroke=\"#000000\" d=\"M301.2622,-73.5C309.2798,-73.5 318.6183,-73.5 328.6514,-73.5\"/>\n<polygon fill=\"#000000\" stroke=\"#000000\" points=\"328.8929,-77.0001 338.8928,-73.5 328.8928,-70.0001 328.8929,-77.0001\"/>\n</g>\n<!-- 140661574350544 -->\n<g id=\"node7\" class=\"node\">\n<title>140661574350544</title>\n<polygon fill=\"none\" stroke=\"#000000\" points=\"1433,-54.5 1433,-90.5 1629,-90.5 1629,-54.5 1433,-54.5\"/>\n<text text-anchor=\"middle\" x=\"1445\" y=\"-68.8\" font-family=\"Times,serif\" font-size=\"14.00\" fill=\"#000000\">o</text>\n<polyline fill=\"none\" stroke=\"#000000\" points=\"1457,-54.5 1457,-90.5 \"/>\n<text text-anchor=\"middle\" x=\"1499.5\" y=\"-68.8\" font-family=\"Times,serif\" font-size=\"14.00\" fill=\"#000000\">data 0.7071</text>\n<polyline fill=\"none\" stroke=\"#000000\" points=\"1542,-54.5 1542,-90.5 \"/>\n<text text-anchor=\"middle\" x=\"1585.5\" y=\"-68.8\" font-family=\"Times,serif\" font-size=\"14.00\" fill=\"#000000\">grad 1.0000</text>\n</g>\n<!-- 140661574350544tanh&#45;&gt;140661574350544 -->\n<g id=\"edge3\" class=\"edge\">\n<title>140661574350544tanh&#45;&gt;140661574350544</title>\n<path fill=\"none\" stroke=\"#000000\" d=\"M1397.3115,-72.5C1404.8223,-72.5 1413.4512,-72.5 1422.6318,-72.5\"/>\n<polygon fill=\"#000000\" stroke=\"#000000\" points=\"1422.7835,-76.0001 1432.7835,-72.5 1422.7835,-69.0001 1422.7835,-76.0001\"/>\n</g>\n<!-- 140661574350064 -->\n<g id=\"node9\" class=\"node\">\n<title>140661574350064</title>\n<polygon fill=\"none\" stroke=\"#000000\" points=\"742.5,-27.5 742.5,-63.5 938.5,-63.5 938.5,-27.5 742.5,-27.5\"/>\n<text text-anchor=\"middle\" x=\"754.5\" y=\"-41.8\" font-family=\"Times,serif\" font-size=\"14.00\" fill=\"#000000\">b</text>\n<polyline fill=\"none\" stroke=\"#000000\" points=\"766.5,-27.5 766.5,-63.5 \"/>\n<text text-anchor=\"middle\" x=\"809\" y=\"-41.8\" font-family=\"Times,serif\" font-size=\"14.00\" fill=\"#000000\">data 6.8814</text>\n<polyline fill=\"none\" stroke=\"#000000\" points=\"851.5,-27.5 851.5,-63.5 \"/>\n<text text-anchor=\"middle\" x=\"895\" y=\"-41.8\" font-family=\"Times,serif\" font-size=\"14.00\" fill=\"#000000\">grad 0.5000</text>\n</g>\n<!-- 140661574350064&#45;&gt;140661574349440+ -->\n<g id=\"edge11\" class=\"edge\">\n<title>140661574350064&#45;&gt;140661574349440+</title>\n<path fill=\"none\" stroke=\"#000000\" d=\"M938.7811,-58.2884C964.6496,-61.6544 990.9727,-65.0796 1011.2938,-67.7238\"/>\n<polygon fill=\"#000000\" stroke=\"#000000\" points=\"1010.9711,-71.2112 1021.3391,-69.0309 1011.8744,-64.2697 1010.9711,-71.2112\"/>\n</g>\n<!-- 140661574351648 -->\n<g id=\"node10\" class=\"node\">\n<title>140661574351648</title>\n<polygon fill=\"none\" stroke=\"#000000\" points=\"337,-110.5 337,-146.5 570,-146.5 570,-110.5 337,-110.5\"/>\n<text text-anchor=\"middle\" x=\"365.5\" y=\"-124.8\" font-family=\"Times,serif\" font-size=\"14.00\" fill=\"#000000\">x1*w1</text>\n<polyline fill=\"none\" stroke=\"#000000\" points=\"394,-110.5 394,-146.5 \"/>\n<text text-anchor=\"middle\" x=\"438.5\" y=\"-124.8\" font-family=\"Times,serif\" font-size=\"14.00\" fill=\"#000000\">data &#45;6.0000</text>\n<polyline fill=\"none\" stroke=\"#000000\" points=\"483,-110.5 483,-146.5 \"/>\n<text text-anchor=\"middle\" x=\"526.5\" y=\"-124.8\" font-family=\"Times,serif\" font-size=\"14.00\" fill=\"#000000\">grad 0.5000</text>\n</g>\n<!-- 140661574351648&#45;&gt;140661574350832+ -->\n<g id=\"edge10\" class=\"edge\">\n<title>140661574351648&#45;&gt;140661574350832+</title>\n<path fill=\"none\" stroke=\"#000000\" d=\"M568.9566,-110.4901C578.7184,-108.9673 588.037,-107.5137 596.3947,-106.21\"/>\n<polygon fill=\"#000000\" stroke=\"#000000\" points=\"597.0871,-109.6444 606.4281,-104.6449 596.0082,-102.7281 597.0871,-109.6444\"/>\n</g>\n<!-- 140661574351648*&#45;&gt;140661574351648 -->\n<g id=\"edge4\" class=\"edge\">\n<title>140661574351648*&#45;&gt;140661574351648</title>\n<path fill=\"none\" stroke=\"#000000\" d=\"M301.2622,-128.5C308.8324,-128.5 317.5801,-128.5 326.9781,-128.5\"/>\n<polygon fill=\"#000000\" stroke=\"#000000\" points=\"326.9853,-132.0001 336.9853,-128.5 326.9852,-125.0001 326.9853,-132.0001\"/>\n</g>\n<!-- 140661574352224 -->\n<g id=\"node12\" class=\"node\">\n<title>140661574352224</title>\n<polygon fill=\"none\" stroke=\"#000000\" points=\"3.5,-55.5 3.5,-91.5 207.5,-91.5 207.5,-55.5 3.5,-55.5\"/>\n<text text-anchor=\"middle\" x=\"19.5\" y=\"-69.8\" font-family=\"Times,serif\" font-size=\"14.00\" fill=\"#000000\">x2</text>\n<polyline fill=\"none\" stroke=\"#000000\" points=\"35.5,-55.5 35.5,-91.5 \"/>\n<text text-anchor=\"middle\" x=\"78\" y=\"-69.8\" font-family=\"Times,serif\" font-size=\"14.00\" fill=\"#000000\">data 0.0000</text>\n<polyline fill=\"none\" stroke=\"#000000\" points=\"120.5,-55.5 120.5,-91.5 \"/>\n<text text-anchor=\"middle\" x=\"164\" y=\"-69.8\" font-family=\"Times,serif\" font-size=\"14.00\" fill=\"#000000\">grad 0.5000</text>\n</g>\n<!-- 140661574352224&#45;&gt;140661574352560* -->\n<g id=\"edge12\" class=\"edge\">\n<title>140661574352224&#45;&gt;140661574352560*</title>\n<path fill=\"none\" stroke=\"#000000\" d=\"M207.888,-73.5C218.0786,-73.5 227.8975,-73.5 236.7094,-73.5\"/>\n<polygon fill=\"#000000\" stroke=\"#000000\" points=\"236.9159,-77.0001 246.9159,-73.5 236.9158,-70.0001 236.9159,-77.0001\"/>\n</g>\n<!-- 140661574351216 -->\n<g id=\"node13\" class=\"node\">\n<title>140661574351216</title>\n<polygon fill=\"none\" stroke=\"#000000\" points=\"2,-.5 2,-36.5 209,-36.5 209,-.5 2,-.5\"/>\n<text text-anchor=\"middle\" x=\"19.5\" y=\"-14.8\" font-family=\"Times,serif\" font-size=\"14.00\" fill=\"#000000\">w2</text>\n<polyline fill=\"none\" stroke=\"#000000\" points=\"37,-.5 37,-36.5 \"/>\n<text text-anchor=\"middle\" x=\"79.5\" y=\"-14.8\" font-family=\"Times,serif\" font-size=\"14.00\" fill=\"#000000\">data 1.0000</text>\n<polyline fill=\"none\" stroke=\"#000000\" points=\"122,-.5 122,-36.5 \"/>\n<text text-anchor=\"middle\" x=\"165.5\" y=\"-14.8\" font-family=\"Times,serif\" font-size=\"14.00\" fill=\"#000000\">grad 0.0000</text>\n</g>\n<!-- 140661574351216&#45;&gt;140661574352560* -->\n<g id=\"edge14\" class=\"edge\">\n<title>140661574351216&#45;&gt;140661574352560*</title>\n<path fill=\"none\" stroke=\"#000000\" d=\"M179.1277,-36.5688C189.8946,-39.636 200.7889,-42.9778 211,-46.5 221.4855,-50.1168 232.6874,-54.6793 242.694,-59.0193\"/>\n<polygon fill=\"#000000\" stroke=\"#000000\" points=\"241.2981,-62.229 251.8592,-63.0741 244.1302,-55.8274 241.2981,-62.229\"/>\n</g>\n<!-- 140661574350832 -->\n<g id=\"node14\" class=\"node\">\n<title>140661574350832</title>\n<polygon fill=\"none\" stroke=\"#000000\" points=\"696,-82.5 696,-118.5 985,-118.5 985,-82.5 696,-82.5\"/>\n<text text-anchor=\"middle\" x=\"752.5\" y=\"-96.8\" font-family=\"Times,serif\" font-size=\"14.00\" fill=\"#000000\">x1*w1 + x2*w2</text>\n<polyline fill=\"none\" stroke=\"#000000\" points=\"809,-82.5 809,-118.5 \"/>\n<text text-anchor=\"middle\" x=\"853.5\" y=\"-96.8\" font-family=\"Times,serif\" font-size=\"14.00\" fill=\"#000000\">data &#45;6.0000</text>\n<polyline fill=\"none\" stroke=\"#000000\" points=\"898,-82.5 898,-118.5 \"/>\n<text text-anchor=\"middle\" x=\"941.5\" y=\"-96.8\" font-family=\"Times,serif\" font-size=\"14.00\" fill=\"#000000\">grad 0.5000</text>\n</g>\n<!-- 140661574350832&#45;&gt;140661574349440+ -->\n<g id=\"edge13\" class=\"edge\">\n<title>140661574350832&#45;&gt;140661574349440+</title>\n<path fill=\"none\" stroke=\"#000000\" d=\"M973.9665,-82.4901C987.5596,-80.6558 1000.4093,-78.9219 1011.4695,-77.4294\"/>\n<polygon fill=\"#000000\" stroke=\"#000000\" points=\"1012.049,-80.883 1021.4911,-76.0771 1011.1128,-73.9459 1012.049,-80.883\"/>\n</g>\n<!-- 140661574350832+&#45;&gt;140661574350832 -->\n<g id=\"edge5\" class=\"edge\">\n<title>140661574350832+&#45;&gt;140661574350832</title>\n<path fill=\"none\" stroke=\"#000000\" d=\"M660.127,-100.5C667.628,-100.5 676.3363,-100.5 685.7965,-100.5\"/>\n<polygon fill=\"#000000\" stroke=\"#000000\" points=\"685.9081,-104.0001 695.908,-100.5 685.908,-97.0001 685.9081,-104.0001\"/>\n</g>\n</g>\n</svg>\n"
          },
          "metadata": {},
          "execution_count": 34
        }
      ]
    },
    {
      "cell_type": "code",
      "source": [
        "x1.grad = w1.data * x1w1.grad\n",
        "w1.grad = x1.data * x1w1.grad"
      ],
      "metadata": {
        "id": "o7upVncfsYAl"
      },
      "execution_count": 33,
      "outputs": []
    },
    {
      "cell_type": "code",
      "source": [
        "x2.grad = w2.data * x2w2.grad\n",
        "w2.grad = x2.data * x2w2.grad"
      ],
      "metadata": {
        "id": "Cg_-VSxur8jM"
      },
      "execution_count": 32,
      "outputs": []
    },
    {
      "cell_type": "code",
      "source": [
        "x1w1.grad = 0.5\n",
        "x2w2.grad = 0.5"
      ],
      "metadata": {
        "id": "81tH0cFRryi0"
      },
      "execution_count": 31,
      "outputs": []
    },
    {
      "cell_type": "code",
      "source": [
        "x1w1x2w2.grad = 0.5\n",
        "b.grad = 0.5"
      ],
      "metadata": {
        "id": "oLEh7gv-rutR"
      },
      "execution_count": 30,
      "outputs": []
    },
    {
      "cell_type": "code",
      "source": [
        "n.grad = 0.5"
      ],
      "metadata": {
        "id": "0XXGubNErcDI"
      },
      "execution_count": 29,
      "outputs": []
    },
    {
      "cell_type": "code",
      "source": [],
      "metadata": {
        "id": "pW0us0y2re1R"
      },
      "execution_count": null,
      "outputs": []
    },
    {
      "cell_type": "code",
      "source": [
        "o.grad = 1.0"
      ],
      "metadata": {
        "id": "dqO67dJMqax_"
      },
      "execution_count": 28,
      "outputs": []
    },
    {
      "cell_type": "code",
      "source": [
        "n.grad = 1 - o**2"
      ],
      "metadata": {
        "id": "cXQ50MZdp8s6"
      },
      "execution_count": null,
      "outputs": []
    }
  ]
}